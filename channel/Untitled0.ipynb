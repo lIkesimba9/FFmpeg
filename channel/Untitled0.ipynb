{
 "metadata": {
  "name": "",
  "signature": "sha256:b8fbc71c251049e74e1d1b58b2aa82d493d0cb2648ad9d5d5ddf1dd8941f650e"
 },
 "nbformat": 3,
 "nbformat_minor": 0,
 "worksheets": [
  {
   "cells": [
    {
     "cell_type": "code",
     "collapsed": false,
     "input": [
      "?"
     ],
     "language": "python",
     "metadata": {},
     "outputs": [],
     "prompt_number": 1
    },
    {
     "cell_type": "code",
     "collapsed": false,
     "input": [
      "import json\n",
      "data = ''\n",
      "with open('crf.txt','r') as f:\n",
      "    data = f.read()\n",
      "data = data[1:-1]\n",
      "d = {}\n",
      "data = data.split(',')\n",
      "for i in data:\n",
      "    tmp = i.split(':')\n",
      "    d[float(tmp[0])] = int(tmp[1])\n",
      "d"
     ],
     "language": "python",
     "metadata": {},
     "outputs": [],
     "prompt_number": 7
    },
    {
     "cell_type": "code",
     "collapsed": false,
     "input": [
      "data = data.split(',')\n",
      "for i in data:\n",
      "    tmp = i.split(':')\n",
      "    d[float(tmp[0])] = int(tmp[1])\n",
      "d"
     ],
     "language": "python",
     "metadata": {},
     "outputs": [
      {
       "metadata": {},
       "output_type": "pyout",
       "prompt_number": 8,
       "text": [
        "{22.6: 970,\n",
        " 20.4: 1740,\n",
        " 27.2: 470,\n",
        " 23.4: 810,\n",
        " 24.2: 785,\n",
        " 26.2: 420,\n",
        " 20.0: 2020,\n",
        " 21.4: 1340,\n",
        " 22.0: 1140,\n",
        " 23.0: 910,\n",
        " 24.0: 720,\n",
        " 25.6: 500,\n",
        " 22.4: 1040,\n",
        " 22.2: 1100,\n",
        " 28.0: 300,\n",
        " 29.4: 220,\n",
        " 30.0: 220,\n",
        " 31.0: 135,\n",
        " 27.0: 450,\n",
        " 24.8: 620,\n",
        " 28.6: 280,\n",
        " 20.1: 1850,\n",
        " 26.6: 350,\n",
        " 29.0: 230,\n",
        " 27.4: 440,\n",
        " 29.2: 226,\n",
        " 23.2: 815,\n",
        " 21.6: 1250,\n",
        " 20.3: 1760,\n",
        " 27.6: 360,\n",
        " 26.8: 440,\n",
        " 25.0: 590,\n",
        " 28.4: 310,\n",
        " 26.4: 400,\n",
        " 21.8: 1200,\n",
        " 24.4: 680,\n",
        " 27.8: 330,\n",
        " 26.0: 550,\n",
        " 25.2: 580,\n",
        " 20.5: 1700,\n",
        " 28.8: 230,\n",
        " 24.6: 640,\n",
        " 22.8: 930,\n",
        " 29.8: 210,\n",
        " 29.6: 200,\n",
        " 20.2: 1780,\n",
        " 25.8: 470,\n",
        " 25.4: 520,\n",
        " 20.7: 1600,\n",
        " 20.9: 1570,\n",
        " 21.0: 1470,\n",
        " 21.2: 1390}"
       ]
      }
     ],
     "prompt_number": 8
    },
    {
     "cell_type": "code",
     "collapsed": false,
     "input": [
      "import matplotlib\n",
      "#matplotlib.plot(d.keys(),d.values())"
     ],
     "language": "python",
     "metadata": {},
     "outputs": [
      {
       "ename": "ImportError",
       "evalue": "No module named 'matplotlib'",
       "output_type": "pyerr",
       "traceback": [
        "\u001b[0;31m---------------------------------------------------------------------------\u001b[0m\n\u001b[0;31mImportError\u001b[0m                               Traceback (most recent call last)",
        "\u001b[0;32m<ipython-input-11-6dc23d809c20>\u001b[0m in \u001b[0;36m<module>\u001b[0;34m()\u001b[0m\n\u001b[0;32m----> 1\u001b[0;31m \u001b[0;32mimport\u001b[0m \u001b[0mmatplotlib\u001b[0m\u001b[0;34m\u001b[0m\u001b[0m\n\u001b[0m\u001b[1;32m      2\u001b[0m \u001b[0;31m#matplotlib.plot(d.keys(),d.values())\u001b[0m\u001b[0;34m\u001b[0m\u001b[0;34m\u001b[0m\u001b[0m\n",
        "\u001b[0;31mImportError\u001b[0m: No module named 'matplotlib'"
       ]
      }
     ],
     "prompt_number": 11
    },
    {
     "cell_type": "code",
     "collapsed": false,
     "input": [
      "!pip3 install matplotlib"
     ],
     "language": "python",
     "metadata": {},
     "outputs": [
      {
       "output_type": "stream",
       "stream": "stdout",
       "text": [
        "Collecting matplotlib\r\n"
       ]
      },
      {
       "output_type": "stream",
       "stream": "stdout",
       "text": [
        "\u001b[31mException:\r\n",
        "Traceback (most recent call last):\r\n",
        "  File \"/usr/share/python-wheels/urllib3-1.13.1-py2.py3-none-any.whl/urllib3/connection.py\", line 137, in _new_conn\r\n",
        "    (self.host, self.port), self.timeout, **extra_kw)\r\n",
        "  File \"/usr/share/python-wheels/urllib3-1.13.1-py2.py3-none-any.whl/urllib3/util/connection.py\", line 67, in create_connection\r\n",
        "    for res in socket.getaddrinfo(host, port, 0, socket.SOCK_STREAM):\r\n",
        "  File \"/usr/lib/python3.5/socket.py\", line 732, in getaddrinfo\r\n",
        "    for res in _socket.getaddrinfo(host, port, family, type, proto, flags):\r\n",
        "socket.gaierror: [Errno -3] Temporary failure in name resolution\r\n",
        "\r\n",
        "During handling of the above exception, another exception occurred:\r\n",
        "\r\n",
        "Traceback (most recent call last):\r\n",
        "  File \"/usr/share/python-wheels/urllib3-1.13.1-py2.py3-none-any.whl/urllib3/connectionpool.py\", line 560, in urlopen\r\n",
        "    body=body, headers=headers)\r\n",
        "  File \"/usr/share/python-wheels/urllib3-1.13.1-py2.py3-none-any.whl/urllib3/connectionpool.py\", line 346, in _make_request\r\n",
        "    self._validate_conn(conn)\r\n",
        "  File \"/usr/share/python-wheels/urllib3-1.13.1-py2.py3-none-any.whl/urllib3/connectionpool.py\", line 787, in _validate_conn\r\n",
        "    conn.connect()\r\n",
        "  File \"/usr/share/python-wheels/urllib3-1.13.1-py2.py3-none-any.whl/urllib3/connection.py\", line 217, in connect\r\n",
        "    conn = self._new_conn()\r\n",
        "  File \"/usr/share/python-wheels/urllib3-1.13.1-py2.py3-none-any.whl/urllib3/connection.py\", line 146, in _new_conn\r\n",
        "    self, \"Failed to establish a new connection: %s\" % e)\r\n",
        "requests.packages.urllib3.exceptions.NewConnectionError: <requests.packages.urllib3.connection.VerifiedHTTPSConnection object at 0x7f4511570da0>: Failed to establish a new connection: [Errno -3] Temporary failure in name resolution\r\n",
        "\r\n",
        "During handling of the above exception, another exception occurred:\r\n",
        "\r\n",
        "Traceback (most recent call last):\r\n",
        "  File \"/usr/lib/python3/dist-packages/pip/basecommand.py\", line 209, in main\r\n",
        "    status = self.run(options, args)\r\n",
        "  File \"/usr/lib/python3/dist-packages/pip/commands/install.py\", line 328, in run\r\n",
        "    wb.build(autobuilding=True)\r\n",
        "  File \"/usr/lib/python3/dist-packages/pip/wheel.py\", line 748, in build\r\n",
        "    self.requirement_set.prepare_files(self.finder)\r\n",
        "  File \"/usr/lib/python3/dist-packages/pip/req/req_set.py\", line 360, in prepare_files\r\n",
        "    ignore_dependencies=self.ignore_dependencies))\r\n",
        "  File \"/usr/lib/python3/dist-packages/pip/req/req_set.py\", line 512, in _prepare_file\r\n",
        "    finder, self.upgrade, require_hashes)\r\n",
        "  File \"/usr/lib/python3/dist-packages/pip/req/req_install.py\", line 273, in populate_link\r\n",
        "    self.link = finder.find_requirement(self, upgrade)\r\n",
        "  File \"/usr/lib/python3/dist-packages/pip/index.py\", line 442, in find_requirement\r\n",
        "    all_candidates = self.find_all_candidates(req.name)\r\n",
        "  File \"/usr/lib/python3/dist-packages/pip/index.py\", line 400, in find_all_candidates\r\n",
        "    for page in self._get_pages(url_locations, project_name):\r\n",
        "  File \"/usr/lib/python3/dist-packages/pip/index.py\", line 545, in _get_pages\r\n",
        "    page = self._get_page(location)\r\n",
        "  File \"/usr/lib/python3/dist-packages/pip/index.py\", line 648, in _get_page\r\n",
        "    return HTMLPage.get_page(link, session=self.session)\r\n",
        "  File \"/usr/lib/python3/dist-packages/pip/index.py\", line 757, in get_page\r\n",
        "    \"Cache-Control\": \"max-age=600\",\r\n",
        "  File \"/usr/share/python-wheels/requests-2.9.1-py2.py3-none-any.whl/requests/sessions.py\", line 480, in get\r\n",
        "    return self.request('GET', url, **kwargs)\r\n",
        "  File \"/usr/lib/python3/dist-packages/pip/download.py\", line 378, in request\r\n",
        "    return super(PipSession, self).request(method, url, *args, **kwargs)\r\n",
        "  File \"/usr/share/python-wheels/requests-2.9.1-py2.py3-none-any.whl/requests/sessions.py\", line 468, in request\r\n",
        "    resp = self.send(prep, **send_kwargs)\r\n",
        "  File \"/usr/share/python-wheels/requests-2.9.1-py2.py3-none-any.whl/requests/sessions.py\", line 597, in send\r\n",
        "    history = [resp for resp in gen] if allow_redirects else []\r\n",
        "  File \"/usr/share/python-wheels/requests-2.9.1-py2.py3-none-any.whl/requests/sessions.py\", line 597, in <listcomp>\r\n",
        "    history = [resp for resp in gen] if allow_redirects else []\r\n",
        "  File \"/usr/share/python-wheels/requests-2.9.1-py2.py3-none-any.whl/requests/sessions.py\", line 195, in resolve_redirects\r\n",
        "    **adapter_kwargs\r\n",
        "  File \"/usr/share/python-wheels/requests-2.9.1-py2.py3-none-any.whl/requests/sessions.py\", line 576, in send\r\n",
        "    r = adapter.send(request, **kwargs)\r\n",
        "  File \"/usr/share/python-wheels/CacheControl-0.11.5-py2.py3-none-any.whl/cachecontrol/adapter.py\", line 46, in send\r\n",
        "    resp = super(CacheControlAdapter, self).send(request, **kw)\r\n",
        "  File \"/usr/share/python-wheels/requests-2.9.1-py2.py3-none-any.whl/requests/adapters.py\", line 376, in send\r\n",
        "    timeout=timeout\r\n",
        "  File \"/usr/share/python-wheels/urllib3-1.13.1-py2.py3-none-any.whl/urllib3/connectionpool.py\", line 610, in urlopen\r\n",
        "    _stacktrace=sys.exc_info()[2])\r\n",
        "  File \"/usr/share/python-wheels/urllib3-1.13.1-py2.py3-none-any.whl/urllib3/util/retry.py\", line 228, in increment\r\n",
        "    total -= 1\r\n",
        "TypeError: unsupported operand type(s) for -=: 'Retry' and 'int'\u001b[0m\r\n"
       ]
      }
     ],
     "prompt_number": 12
    },
    {
     "cell_type": "code",
     "collapsed": false,
     "input": [],
     "language": "python",
     "metadata": {},
     "outputs": []
    }
   ],
   "metadata": {}
  }
 ]
}